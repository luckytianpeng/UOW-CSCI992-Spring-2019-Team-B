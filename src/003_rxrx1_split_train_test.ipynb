{
 "cells": [
  {
   "cell_type": "markdown",
   "metadata": {},
   "source": [
    "University of Wollong (UOW)  \n",
    "CSCI991 Project Spring 2019  \n",
    "Team B  \n",
    "\n",
    "<em>Peng TIAN, pt882@uowmail.edu.au</em>"
   ]
  },
  {
   "cell_type": "markdown",
   "metadata": {},
   "source": [
    "# Split the original train data set to new train and new test data set\n",
    "\n",
    "<strong>Why?</strong>\n",
    "\n",
    "<em>We do not have the labels for test dataset. We need labels for <strong>validation and testing</strong> of our model.</em>\n",
    "<br/>\n",
    "<br/>\n",
    "<br/>"
   ]
  },
  {
   "cell_type": "markdown",
   "metadata": {},
   "source": [
    "According to <a href='002_rxrx1_exploration.ipynb#training_testing'>002_rxrx1_exploration.ipynb</a><sup>[1]</sup>:\n",
    "\n",
    "<em>Original train and test date set:</em>\n",
    "\n",
    "|cell |train|test|\n",
    "|----:|:--:|:--:|\n",
    "|HEPG |HEPG2-01 ... HEPG2-11|HEPG2-08 ... HEPG2-11|\n",
    "|HUVEC|HUVEC-01 ... HUVEC-24|HUVEC-11 ... HUVEC-24|\n",
    "|RPE  |RPE-01 ... RPE-11|RPE-08 ... RPE-11|\n",
    "|U2OS |U2OS-01 ... U2OS-05|U2OS-04 ... U2OS-05|\n",
    "\n",
    "<strong>Spliting strategy:</strong>\n",
    "\n",
    "|cell |train|test|\n",
    "|----:|:--:|:--:|\n",
    "|HEPG |HEPG2-01 ... HEPG2-05|HEPG2-06, HEPG2-07|\n",
    "|HUVEC|HUVEC-01 ... HUVEC-07|HUVEC-08 ... HUVEC-10|\n",
    "|RPE  |RPE-01 ... RPE-05|RPE-06, RPE-07|\n",
    "|U2OS |U2OS-01, U2OS-02|U2OS-03|\n",
    "         \n",
    "         \n",
    "<strong>References:</strong>\n",
    "\n",
    "<ol>\n",
    "    <li><a href='002_rxrx1_exploration.ipynb'>002_rxrx1_exploration.ipynb</a></li>\n",
    "</ol>"
   ]
  },
  {
   "cell_type": "code",
   "execution_count": 1,
   "metadata": {},
   "outputs": [],
   "source": [
    "import sys\n",
    "import os\n",
    "import pandas as pd"
   ]
  },
  {
   "cell_type": "code",
   "execution_count": 2,
   "metadata": {},
   "outputs": [
    {
     "name": "stderr",
     "output_type": "stream",
     "text": [
      "C:\\Users\\Peng\\Anaconda3\\envs\\tensorflow_gpuenv 1.13.1\\lib\\site-packages\\tensorflow\\python\\framework\\dtypes.py:526: FutureWarning: Passing (type, 1) or '1type' as a synonym of type is deprecated; in a future version of numpy, it will be understood as (type, (1,)) / '(1,)type'.\n",
      "  _np_qint8 = np.dtype([(\"qint8\", np.int8, 1)])\n",
      "C:\\Users\\Peng\\Anaconda3\\envs\\tensorflow_gpuenv 1.13.1\\lib\\site-packages\\tensorflow\\python\\framework\\dtypes.py:527: FutureWarning: Passing (type, 1) or '1type' as a synonym of type is deprecated; in a future version of numpy, it will be understood as (type, (1,)) / '(1,)type'.\n",
      "  _np_quint8 = np.dtype([(\"quint8\", np.uint8, 1)])\n",
      "C:\\Users\\Peng\\Anaconda3\\envs\\tensorflow_gpuenv 1.13.1\\lib\\site-packages\\tensorflow\\python\\framework\\dtypes.py:528: FutureWarning: Passing (type, 1) or '1type' as a synonym of type is deprecated; in a future version of numpy, it will be understood as (type, (1,)) / '(1,)type'.\n",
      "  _np_qint16 = np.dtype([(\"qint16\", np.int16, 1)])\n",
      "C:\\Users\\Peng\\Anaconda3\\envs\\tensorflow_gpuenv 1.13.1\\lib\\site-packages\\tensorflow\\python\\framework\\dtypes.py:529: FutureWarning: Passing (type, 1) or '1type' as a synonym of type is deprecated; in a future version of numpy, it will be understood as (type, (1,)) / '(1,)type'.\n",
      "  _np_quint16 = np.dtype([(\"quint16\", np.uint16, 1)])\n",
      "C:\\Users\\Peng\\Anaconda3\\envs\\tensorflow_gpuenv 1.13.1\\lib\\site-packages\\tensorflow\\python\\framework\\dtypes.py:530: FutureWarning: Passing (type, 1) or '1type' as a synonym of type is deprecated; in a future version of numpy, it will be understood as (type, (1,)) / '(1,)type'.\n",
      "  _np_qint32 = np.dtype([(\"qint32\", np.int32, 1)])\n",
      "C:\\Users\\Peng\\Anaconda3\\envs\\tensorflow_gpuenv 1.13.1\\lib\\site-packages\\tensorflow\\python\\framework\\dtypes.py:535: FutureWarning: Passing (type, 1) or '1type' as a synonym of type is deprecated; in a future version of numpy, it will be understood as (type, (1,)) / '(1,)type'.\n",
      "  np_resource = np.dtype([(\"resource\", np.ubyte, 1)])\n"
     ]
    }
   ],
   "source": [
    "import rxrx.io as rio"
   ]
  },
  {
   "cell_type": "code",
   "execution_count": 3,
   "metadata": {},
   "outputs": [],
   "source": [
    "TRAIN = ['HEPG2-01', 'HEPG2-02', 'HEPG2-03', 'HEPG2-04', 'HEPG2-05',\n",
    "         'HUVEC-01', 'HUVEC-02', 'HUVEC-03', 'HUVEC-04', 'HUVEC-05', 'HUVEC-06', 'HUVEC-07',\n",
    "         'RPE-01', 'RPE-02', 'RPE-03', 'RPE-04', 'RPE-05',\n",
    "         'U2OS-01', 'U2OS-02']"
   ]
  },
  {
   "cell_type": "code",
   "execution_count": 4,
   "metadata": {},
   "outputs": [],
   "source": [
    "TEST = ['HEPG2-06', 'HEPG2-07',\n",
    "         'HUVEC-08', 'HUVEC-09', 'HUVEC-10',\n",
    "         'RPE-06', 'RPE-07',\n",
    "         'U2OS-03']"
   ]
  },
  {
   "cell_type": "code",
   "execution_count": 5,
   "metadata": {},
   "outputs": [],
   "source": [
    "# Ref:\n",
    "#     rxrx/io.py, line: 14, 15\n",
    "\n",
    "LOCAL_IMAGES_BASE_PATH = 'D:\\\\_peng\\\\recursion-cellular-image-classification'  # windows\n",
    "DEFAULT_METADATA_BASE_PATH = os.path.join(LOCAL_IMAGES_BASE_PATH, 'metadata_original')\n",
    "NEW_METADATA_BASE_PATH = os.path.join(LOCAL_IMAGES_BASE_PATH, 'metadata')"
   ]
  },
  {
   "cell_type": "markdown",
   "metadata": {},
   "source": [
    "<strong>sample_submission.csv</strong>"
   ]
  },
  {
   "cell_type": "code",
   "execution_count": 6,
   "metadata": {},
   "outputs": [],
   "source": [
    "df_sample_submission = pd.read_csv(os.path.join(DEFAULT_METADATA_BASE_PATH, 'sample_submission.csv'))"
   ]
  },
  {
   "cell_type": "code",
   "execution_count": 7,
   "metadata": {},
   "outputs": [
    {
     "data": {
      "text/html": [
       "<div>\n",
       "<style scoped>\n",
       "    .dataframe tbody tr th:only-of-type {\n",
       "        vertical-align: middle;\n",
       "    }\n",
       "\n",
       "    .dataframe tbody tr th {\n",
       "        vertical-align: top;\n",
       "    }\n",
       "\n",
       "    .dataframe thead th {\n",
       "        text-align: right;\n",
       "    }\n",
       "</style>\n",
       "<table border=\"1\" class=\"dataframe\">\n",
       "  <thead>\n",
       "    <tr style=\"text-align: right;\">\n",
       "      <th></th>\n",
       "      <th>id_code</th>\n",
       "      <th>sirna</th>\n",
       "    </tr>\n",
       "  </thead>\n",
       "  <tbody>\n",
       "    <tr>\n",
       "      <th>0</th>\n",
       "      <td>HEPG2-08_1_B03</td>\n",
       "      <td>911</td>\n",
       "    </tr>\n",
       "    <tr>\n",
       "      <th>1</th>\n",
       "      <td>HEPG2-08_1_B04</td>\n",
       "      <td>911</td>\n",
       "    </tr>\n",
       "    <tr>\n",
       "      <th>2</th>\n",
       "      <td>HEPG2-08_1_B05</td>\n",
       "      <td>911</td>\n",
       "    </tr>\n",
       "    <tr>\n",
       "      <th>3</th>\n",
       "      <td>HEPG2-08_1_B06</td>\n",
       "      <td>911</td>\n",
       "    </tr>\n",
       "    <tr>\n",
       "      <th>4</th>\n",
       "      <td>HEPG2-08_1_B07</td>\n",
       "      <td>911</td>\n",
       "    </tr>\n",
       "  </tbody>\n",
       "</table>\n",
       "</div>"
      ],
      "text/plain": [
       "          id_code  sirna\n",
       "0  HEPG2-08_1_B03    911\n",
       "1  HEPG2-08_1_B04    911\n",
       "2  HEPG2-08_1_B05    911\n",
       "3  HEPG2-08_1_B06    911\n",
       "4  HEPG2-08_1_B07    911"
      ]
     },
     "execution_count": 7,
     "metadata": {},
     "output_type": "execute_result"
    }
   ],
   "source": [
    "df_sample_submission.head()"
   ]
  },
  {
   "cell_type": "markdown",
   "metadata": {},
   "source": [
    "<strong>Combining competition metadata</strong>"
   ]
  },
  {
   "cell_type": "code",
   "execution_count": 8,
   "metadata": {},
   "outputs": [],
   "source": [
    "# train.csv, train_controls.csv, test.csv, test_controls.csv\n",
    "\n",
    "md = rio.combine_metadata(base_path=DEFAULT_METADATA_BASE_PATH)"
   ]
  },
  {
   "cell_type": "code",
   "execution_count": 9,
   "metadata": {},
   "outputs": [
    {
     "data": {
      "text/html": [
       "<div>\n",
       "<style scoped>\n",
       "    .dataframe tbody tr th:only-of-type {\n",
       "        vertical-align: middle;\n",
       "    }\n",
       "\n",
       "    .dataframe tbody tr th {\n",
       "        vertical-align: top;\n",
       "    }\n",
       "\n",
       "    .dataframe thead th {\n",
       "        text-align: right;\n",
       "    }\n",
       "</style>\n",
       "<table border=\"1\" class=\"dataframe\">\n",
       "  <thead>\n",
       "    <tr style=\"text-align: right;\">\n",
       "      <th></th>\n",
       "      <th>cell_type</th>\n",
       "      <th>dataset</th>\n",
       "      <th>experiment</th>\n",
       "      <th>plate</th>\n",
       "      <th>sirna</th>\n",
       "      <th>site</th>\n",
       "      <th>well</th>\n",
       "      <th>well_type</th>\n",
       "    </tr>\n",
       "    <tr>\n",
       "      <th>id_code</th>\n",
       "      <th></th>\n",
       "      <th></th>\n",
       "      <th></th>\n",
       "      <th></th>\n",
       "      <th></th>\n",
       "      <th></th>\n",
       "      <th></th>\n",
       "      <th></th>\n",
       "    </tr>\n",
       "  </thead>\n",
       "  <tbody>\n",
       "    <tr>\n",
       "      <th>HEPG2-08_1_B02</th>\n",
       "      <td>HEPG2</td>\n",
       "      <td>test</td>\n",
       "      <td>HEPG2-08</td>\n",
       "      <td>1</td>\n",
       "      <td>1138.0</td>\n",
       "      <td>1</td>\n",
       "      <td>B02</td>\n",
       "      <td>negative_control</td>\n",
       "    </tr>\n",
       "    <tr>\n",
       "      <th>HEPG2-08_1_B02</th>\n",
       "      <td>HEPG2</td>\n",
       "      <td>test</td>\n",
       "      <td>HEPG2-08</td>\n",
       "      <td>1</td>\n",
       "      <td>1138.0</td>\n",
       "      <td>2</td>\n",
       "      <td>B02</td>\n",
       "      <td>negative_control</td>\n",
       "    </tr>\n",
       "    <tr>\n",
       "      <th>HEPG2-08_1_B03</th>\n",
       "      <td>HEPG2</td>\n",
       "      <td>test</td>\n",
       "      <td>HEPG2-08</td>\n",
       "      <td>1</td>\n",
       "      <td>NaN</td>\n",
       "      <td>1</td>\n",
       "      <td>B03</td>\n",
       "      <td>treatment</td>\n",
       "    </tr>\n",
       "    <tr>\n",
       "      <th>HEPG2-08_1_B03</th>\n",
       "      <td>HEPG2</td>\n",
       "      <td>test</td>\n",
       "      <td>HEPG2-08</td>\n",
       "      <td>1</td>\n",
       "      <td>NaN</td>\n",
       "      <td>2</td>\n",
       "      <td>B03</td>\n",
       "      <td>treatment</td>\n",
       "    </tr>\n",
       "    <tr>\n",
       "      <th>HEPG2-08_1_B04</th>\n",
       "      <td>HEPG2</td>\n",
       "      <td>test</td>\n",
       "      <td>HEPG2-08</td>\n",
       "      <td>1</td>\n",
       "      <td>NaN</td>\n",
       "      <td>1</td>\n",
       "      <td>B04</td>\n",
       "      <td>treatment</td>\n",
       "    </tr>\n",
       "    <tr>\n",
       "      <th>HEPG2-08_1_B04</th>\n",
       "      <td>HEPG2</td>\n",
       "      <td>test</td>\n",
       "      <td>HEPG2-08</td>\n",
       "      <td>1</td>\n",
       "      <td>NaN</td>\n",
       "      <td>2</td>\n",
       "      <td>B04</td>\n",
       "      <td>treatment</td>\n",
       "    </tr>\n",
       "  </tbody>\n",
       "</table>\n",
       "</div>"
      ],
      "text/plain": [
       "               cell_type dataset experiment  plate   sirna  site well  \\\n",
       "id_code                                                                 \n",
       "HEPG2-08_1_B02     HEPG2    test   HEPG2-08      1  1138.0     1  B02   \n",
       "HEPG2-08_1_B02     HEPG2    test   HEPG2-08      1  1138.0     2  B02   \n",
       "HEPG2-08_1_B03     HEPG2    test   HEPG2-08      1     NaN     1  B03   \n",
       "HEPG2-08_1_B03     HEPG2    test   HEPG2-08      1     NaN     2  B03   \n",
       "HEPG2-08_1_B04     HEPG2    test   HEPG2-08      1     NaN     1  B04   \n",
       "HEPG2-08_1_B04     HEPG2    test   HEPG2-08      1     NaN     2  B04   \n",
       "\n",
       "                       well_type  \n",
       "id_code                           \n",
       "HEPG2-08_1_B02  negative_control  \n",
       "HEPG2-08_1_B02  negative_control  \n",
       "HEPG2-08_1_B03         treatment  \n",
       "HEPG2-08_1_B03         treatment  \n",
       "HEPG2-08_1_B04         treatment  \n",
       "HEPG2-08_1_B04         treatment  "
      ]
     },
     "execution_count": 9,
     "metadata": {},
     "output_type": "execute_result"
    }
   ],
   "source": [
    "md.head(n=6)"
   ]
  },
  {
   "cell_type": "markdown",
   "metadata": {},
   "source": [
    "<br/>\n",
    "<br/>\n",
    "<br/>\n",
    "<em>Summary of sample_submission.csv and combing metadata:</em>\n",
    "<ul>\n",
    "    <li>id_code: experiment_plate_well</li>\n",
    "    <li>Every well has 2 sites, every site has 6 channels. The 12 images be considered as a whole</li>\n",
    "</ul>\n",
    "<br/>\n",
    "<br/>\n",
    "<br/>"
   ]
  },
  {
   "cell_type": "markdown",
   "metadata": {},
   "source": [
    "<strong>Split original train to new train and new test : train.csv, train_controls.csv, test.csv, test_controls.csv</strong>"
   ]
  },
  {
   "cell_type": "code",
   "execution_count": 10,
   "metadata": {},
   "outputs": [],
   "source": [
    "train = pd.read_csv(os.path.join(DEFAULT_METADATA_BASE_PATH, 'train.csv'))"
   ]
  },
  {
   "cell_type": "code",
   "execution_count": 11,
   "metadata": {},
   "outputs": [
    {
     "data": {
      "text/html": [
       "<div>\n",
       "<style scoped>\n",
       "    .dataframe tbody tr th:only-of-type {\n",
       "        vertical-align: middle;\n",
       "    }\n",
       "\n",
       "    .dataframe tbody tr th {\n",
       "        vertical-align: top;\n",
       "    }\n",
       "\n",
       "    .dataframe thead th {\n",
       "        text-align: right;\n",
       "    }\n",
       "</style>\n",
       "<table border=\"1\" class=\"dataframe\">\n",
       "  <thead>\n",
       "    <tr style=\"text-align: right;\">\n",
       "      <th></th>\n",
       "      <th>id_code</th>\n",
       "      <th>experiment</th>\n",
       "      <th>plate</th>\n",
       "      <th>well</th>\n",
       "      <th>sirna</th>\n",
       "    </tr>\n",
       "  </thead>\n",
       "  <tbody>\n",
       "    <tr>\n",
       "      <th>0</th>\n",
       "      <td>HEPG2-01_1_B03</td>\n",
       "      <td>HEPG2-01</td>\n",
       "      <td>1</td>\n",
       "      <td>B03</td>\n",
       "      <td>513</td>\n",
       "    </tr>\n",
       "    <tr>\n",
       "      <th>1</th>\n",
       "      <td>HEPG2-01_1_B04</td>\n",
       "      <td>HEPG2-01</td>\n",
       "      <td>1</td>\n",
       "      <td>B04</td>\n",
       "      <td>840</td>\n",
       "    </tr>\n",
       "    <tr>\n",
       "      <th>2</th>\n",
       "      <td>HEPG2-01_1_B05</td>\n",
       "      <td>HEPG2-01</td>\n",
       "      <td>1</td>\n",
       "      <td>B05</td>\n",
       "      <td>1020</td>\n",
       "    </tr>\n",
       "    <tr>\n",
       "      <th>3</th>\n",
       "      <td>HEPG2-01_1_B06</td>\n",
       "      <td>HEPG2-01</td>\n",
       "      <td>1</td>\n",
       "      <td>B06</td>\n",
       "      <td>254</td>\n",
       "    </tr>\n",
       "    <tr>\n",
       "      <th>4</th>\n",
       "      <td>HEPG2-01_1_B07</td>\n",
       "      <td>HEPG2-01</td>\n",
       "      <td>1</td>\n",
       "      <td>B07</td>\n",
       "      <td>144</td>\n",
       "    </tr>\n",
       "    <tr>\n",
       "      <th>...</th>\n",
       "      <td>...</td>\n",
       "      <td>...</td>\n",
       "      <td>...</td>\n",
       "      <td>...</td>\n",
       "      <td>...</td>\n",
       "    </tr>\n",
       "    <tr>\n",
       "      <th>36510</th>\n",
       "      <td>U2OS-03_4_O19</td>\n",
       "      <td>U2OS-03</td>\n",
       "      <td>4</td>\n",
       "      <td>O19</td>\n",
       "      <td>103</td>\n",
       "    </tr>\n",
       "    <tr>\n",
       "      <th>36511</th>\n",
       "      <td>U2OS-03_4_O20</td>\n",
       "      <td>U2OS-03</td>\n",
       "      <td>4</td>\n",
       "      <td>O20</td>\n",
       "      <td>202</td>\n",
       "    </tr>\n",
       "    <tr>\n",
       "      <th>36512</th>\n",
       "      <td>U2OS-03_4_O21</td>\n",
       "      <td>U2OS-03</td>\n",
       "      <td>4</td>\n",
       "      <td>O21</td>\n",
       "      <td>824</td>\n",
       "    </tr>\n",
       "    <tr>\n",
       "      <th>36513</th>\n",
       "      <td>U2OS-03_4_O22</td>\n",
       "      <td>U2OS-03</td>\n",
       "      <td>4</td>\n",
       "      <td>O22</td>\n",
       "      <td>328</td>\n",
       "    </tr>\n",
       "    <tr>\n",
       "      <th>36514</th>\n",
       "      <td>U2OS-03_4_O23</td>\n",
       "      <td>U2OS-03</td>\n",
       "      <td>4</td>\n",
       "      <td>O23</td>\n",
       "      <td>509</td>\n",
       "    </tr>\n",
       "  </tbody>\n",
       "</table>\n",
       "<p>36515 rows × 5 columns</p>\n",
       "</div>"
      ],
      "text/plain": [
       "              id_code experiment  plate well  sirna\n",
       "0      HEPG2-01_1_B03   HEPG2-01      1  B03    513\n",
       "1      HEPG2-01_1_B04   HEPG2-01      1  B04    840\n",
       "2      HEPG2-01_1_B05   HEPG2-01      1  B05   1020\n",
       "3      HEPG2-01_1_B06   HEPG2-01      1  B06    254\n",
       "4      HEPG2-01_1_B07   HEPG2-01      1  B07    144\n",
       "...               ...        ...    ...  ...    ...\n",
       "36510   U2OS-03_4_O19    U2OS-03      4  O19    103\n",
       "36511   U2OS-03_4_O20    U2OS-03      4  O20    202\n",
       "36512   U2OS-03_4_O21    U2OS-03      4  O21    824\n",
       "36513   U2OS-03_4_O22    U2OS-03      4  O22    328\n",
       "36514   U2OS-03_4_O23    U2OS-03      4  O23    509\n",
       "\n",
       "[36515 rows x 5 columns]"
      ]
     },
     "execution_count": 11,
     "metadata": {},
     "output_type": "execute_result"
    }
   ],
   "source": [
    "train"
   ]
  },
  {
   "cell_type": "code",
   "execution_count": 12,
   "metadata": {},
   "outputs": [
    {
     "data": {
      "text/plain": [
       "HEPG2-01    1106\n",
       "HEPG2-02    1106\n",
       "HEPG2-03    1108\n",
       "HEPG2-04    1108\n",
       "HEPG2-05    1108\n",
       "HEPG2-06    1108\n",
       "HEPG2-07    1106\n",
       "HUVEC-01    1108\n",
       "HUVEC-02    1108\n",
       "HUVEC-03    1108\n",
       "HUVEC-04    1108\n",
       "HUVEC-05    1108\n",
       "HUVEC-06    1107\n",
       "HUVEC-07    1107\n",
       "HUVEC-08    1108\n",
       "HUVEC-09    1108\n",
       "HUVEC-10    1108\n",
       "HUVEC-11    1108\n",
       "HUVEC-12    1108\n",
       "HUVEC-13    1102\n",
       "HUVEC-14    1090\n",
       "HUVEC-15    1094\n",
       "HUVEC-16    1108\n",
       "RPE-01      1108\n",
       "RPE-02      1108\n",
       "RPE-03      1108\n",
       "RPE-04      1107\n",
       "RPE-05      1108\n",
       "RPE-06      1106\n",
       "RPE-07      1108\n",
       "U2OS-01     1108\n",
       "U2OS-02     1108\n",
       "U2OS-03     1108\n",
       "Name: experiment, dtype: int64"
      ]
     },
     "execution_count": 12,
     "metadata": {},
     "output_type": "execute_result"
    }
   ],
   "source": [
    "train['experiment'].value_counts().sort_index()"
   ]
  },
  {
   "cell_type": "code",
   "execution_count": 13,
   "metadata": {},
   "outputs": [],
   "source": [
    "train_new = train[train['experiment'].isin(TRAIN)]"
   ]
  },
  {
   "cell_type": "code",
   "execution_count": 14,
   "metadata": {},
   "outputs": [
    {
     "data": {
      "text/plain": [
       "HEPG2-01    1106\n",
       "HEPG2-02    1106\n",
       "HEPG2-03    1108\n",
       "HEPG2-04    1108\n",
       "HEPG2-05    1108\n",
       "HUVEC-01    1108\n",
       "HUVEC-02    1108\n",
       "HUVEC-03    1108\n",
       "HUVEC-04    1108\n",
       "HUVEC-05    1108\n",
       "HUVEC-06    1107\n",
       "HUVEC-07    1107\n",
       "RPE-01      1108\n",
       "RPE-02      1108\n",
       "RPE-03      1108\n",
       "RPE-04      1107\n",
       "RPE-05      1108\n",
       "U2OS-01     1108\n",
       "U2OS-02     1108\n",
       "Name: experiment, dtype: int64"
      ]
     },
     "execution_count": 14,
     "metadata": {},
     "output_type": "execute_result"
    }
   ],
   "source": [
    "train_new['experiment'].value_counts().sort_index()"
   ]
  },
  {
   "cell_type": "code",
   "execution_count": 15,
   "metadata": {},
   "outputs": [],
   "source": [
    "train_new.to_csv(os.path.join(NEW_METADATA_BASE_PATH, 'train.csv'), index=False, header=True)"
   ]
  },
  {
   "cell_type": "code",
   "execution_count": 16,
   "metadata": {},
   "outputs": [],
   "source": [
    "test_new = train[train['experiment'].isin(TEST)]"
   ]
  },
  {
   "cell_type": "code",
   "execution_count": 17,
   "metadata": {},
   "outputs": [
    {
     "data": {
      "text/plain": [
       "HEPG2-06    1108\n",
       "HEPG2-07    1106\n",
       "HUVEC-08    1108\n",
       "HUVEC-09    1108\n",
       "HUVEC-10    1108\n",
       "RPE-06      1106\n",
       "RPE-07      1108\n",
       "U2OS-03     1108\n",
       "Name: experiment, dtype: int64"
      ]
     },
     "execution_count": 17,
     "metadata": {},
     "output_type": "execute_result"
    }
   ],
   "source": [
    "test_new['experiment'].value_counts().sort_index()"
   ]
  },
  {
   "cell_type": "code",
   "execution_count": 18,
   "metadata": {},
   "outputs": [],
   "source": [
    "test_new = test_new.drop(columns='sirna')"
   ]
  },
  {
   "cell_type": "code",
   "execution_count": 19,
   "metadata": {},
   "outputs": [
    {
     "data": {
      "text/html": [
       "<div>\n",
       "<style scoped>\n",
       "    .dataframe tbody tr th:only-of-type {\n",
       "        vertical-align: middle;\n",
       "    }\n",
       "\n",
       "    .dataframe tbody tr th {\n",
       "        vertical-align: top;\n",
       "    }\n",
       "\n",
       "    .dataframe thead th {\n",
       "        text-align: right;\n",
       "    }\n",
       "</style>\n",
       "<table border=\"1\" class=\"dataframe\">\n",
       "  <thead>\n",
       "    <tr style=\"text-align: right;\">\n",
       "      <th></th>\n",
       "      <th>id_code</th>\n",
       "      <th>experiment</th>\n",
       "      <th>plate</th>\n",
       "      <th>well</th>\n",
       "    </tr>\n",
       "  </thead>\n",
       "  <tbody>\n",
       "    <tr>\n",
       "      <th>5536</th>\n",
       "      <td>HEPG2-06_1_B03</td>\n",
       "      <td>HEPG2-06</td>\n",
       "      <td>1</td>\n",
       "      <td>B03</td>\n",
       "    </tr>\n",
       "    <tr>\n",
       "      <th>5537</th>\n",
       "      <td>HEPG2-06_1_B04</td>\n",
       "      <td>HEPG2-06</td>\n",
       "      <td>1</td>\n",
       "      <td>B04</td>\n",
       "    </tr>\n",
       "    <tr>\n",
       "      <th>5538</th>\n",
       "      <td>HEPG2-06_1_B05</td>\n",
       "      <td>HEPG2-06</td>\n",
       "      <td>1</td>\n",
       "      <td>B05</td>\n",
       "    </tr>\n",
       "    <tr>\n",
       "      <th>5539</th>\n",
       "      <td>HEPG2-06_1_B06</td>\n",
       "      <td>HEPG2-06</td>\n",
       "      <td>1</td>\n",
       "      <td>B06</td>\n",
       "    </tr>\n",
       "    <tr>\n",
       "      <th>5540</th>\n",
       "      <td>HEPG2-06_1_B07</td>\n",
       "      <td>HEPG2-06</td>\n",
       "      <td>1</td>\n",
       "      <td>B07</td>\n",
       "    </tr>\n",
       "  </tbody>\n",
       "</table>\n",
       "</div>"
      ],
      "text/plain": [
       "             id_code experiment  plate well\n",
       "5536  HEPG2-06_1_B03   HEPG2-06      1  B03\n",
       "5537  HEPG2-06_1_B04   HEPG2-06      1  B04\n",
       "5538  HEPG2-06_1_B05   HEPG2-06      1  B05\n",
       "5539  HEPG2-06_1_B06   HEPG2-06      1  B06\n",
       "5540  HEPG2-06_1_B07   HEPG2-06      1  B07"
      ]
     },
     "execution_count": 19,
     "metadata": {},
     "output_type": "execute_result"
    }
   ],
   "source": [
    "test_new.head()"
   ]
  },
  {
   "cell_type": "code",
   "execution_count": 20,
   "metadata": {},
   "outputs": [],
   "source": [
    "test_new.to_csv(os.path.join(NEW_METADATA_BASE_PATH, 'test.csv'), index=False, header=True)"
   ]
  },
  {
   "cell_type": "code",
   "execution_count": 21,
   "metadata": {},
   "outputs": [],
   "source": [
    "train_controls = pd.read_csv(os.path.join(DEFAULT_METADATA_BASE_PATH, 'train_controls.csv'))"
   ]
  },
  {
   "cell_type": "code",
   "execution_count": 22,
   "metadata": {},
   "outputs": [
    {
     "data": {
      "text/plain": [
       "HEPG2-01    126\n",
       "HEPG2-02    126\n",
       "HEPG2-03    124\n",
       "HEPG2-04    124\n",
       "HEPG2-05    124\n",
       "HEPG2-06    124\n",
       "HEPG2-07    124\n",
       "HUVEC-01    124\n",
       "HUVEC-02    124\n",
       "HUVEC-03    124\n",
       "HUVEC-04    124\n",
       "HUVEC-05    124\n",
       "HUVEC-06    124\n",
       "HUVEC-07    125\n",
       "HUVEC-08    124\n",
       "HUVEC-09    124\n",
       "HUVEC-10    124\n",
       "HUVEC-11    124\n",
       "HUVEC-12    124\n",
       "HUVEC-13    122\n",
       "HUVEC-14    126\n",
       "HUVEC-15    122\n",
       "HUVEC-16    124\n",
       "RPE-01      124\n",
       "RPE-02      124\n",
       "RPE-03      124\n",
       "RPE-04      124\n",
       "RPE-05      124\n",
       "RPE-06      126\n",
       "RPE-07      124\n",
       "U2OS-01     124\n",
       "U2OS-02     124\n",
       "U2OS-03     124\n",
       "Name: experiment, dtype: int64"
      ]
     },
     "execution_count": 22,
     "metadata": {},
     "output_type": "execute_result"
    }
   ],
   "source": [
    "train_controls['experiment'].value_counts().sort_index()"
   ]
  },
  {
   "cell_type": "code",
   "execution_count": 23,
   "metadata": {},
   "outputs": [],
   "source": [
    "train_controls_new = train_controls[train_controls['experiment'].isin(TRAIN)]"
   ]
  },
  {
   "cell_type": "code",
   "execution_count": 24,
   "metadata": {},
   "outputs": [
    {
     "data": {
      "text/plain": [
       "HEPG2-01    126\n",
       "HEPG2-02    126\n",
       "HEPG2-03    124\n",
       "HEPG2-04    124\n",
       "HEPG2-05    124\n",
       "HUVEC-01    124\n",
       "HUVEC-02    124\n",
       "HUVEC-03    124\n",
       "HUVEC-04    124\n",
       "HUVEC-05    124\n",
       "HUVEC-06    124\n",
       "HUVEC-07    125\n",
       "RPE-01      124\n",
       "RPE-02      124\n",
       "RPE-03      124\n",
       "RPE-04      124\n",
       "RPE-05      124\n",
       "U2OS-01     124\n",
       "U2OS-02     124\n",
       "Name: experiment, dtype: int64"
      ]
     },
     "execution_count": 24,
     "metadata": {},
     "output_type": "execute_result"
    }
   ],
   "source": [
    "train_controls_new['experiment'].value_counts().sort_index()"
   ]
  },
  {
   "cell_type": "code",
   "execution_count": 25,
   "metadata": {},
   "outputs": [],
   "source": [
    "train_controls_new.to_csv(os.path.join(NEW_METADATA_BASE_PATH, 'train_controls.csv'), index=False, header=True)"
   ]
  },
  {
   "cell_type": "code",
   "execution_count": 26,
   "metadata": {},
   "outputs": [],
   "source": [
    "test_cntrols_new = train_controls[train_controls['experiment'].isin(TEST)]"
   ]
  },
  {
   "cell_type": "code",
   "execution_count": 27,
   "metadata": {},
   "outputs": [
    {
     "data": {
      "text/plain": [
       "HEPG2-06    124\n",
       "HEPG2-07    124\n",
       "HUVEC-08    124\n",
       "HUVEC-09    124\n",
       "HUVEC-10    124\n",
       "RPE-06      126\n",
       "RPE-07      124\n",
       "U2OS-03     124\n",
       "Name: experiment, dtype: int64"
      ]
     },
     "execution_count": 27,
     "metadata": {},
     "output_type": "execute_result"
    }
   ],
   "source": [
    "test_cntrols_new['experiment'].value_counts().sort_index()"
   ]
  },
  {
   "cell_type": "code",
   "execution_count": 28,
   "metadata": {},
   "outputs": [],
   "source": [
    "test_cntrols_new.to_csv(os.path.join(NEW_METADATA_BASE_PATH, 'test_controls.csv'), index=False, header=True)"
   ]
  },
  {
   "cell_type": "code",
   "execution_count": null,
   "metadata": {},
   "outputs": [],
   "source": []
  }
 ],
 "metadata": {
  "kernelspec": {
   "display_name": "Python 3",
   "language": "python",
   "name": "python3"
  },
  "language_info": {
   "codemirror_mode": {
    "name": "ipython",
    "version": 3
   },
   "file_extension": ".py",
   "mimetype": "text/x-python",
   "name": "python",
   "nbconvert_exporter": "python",
   "pygments_lexer": "ipython3",
   "version": "3.7.6"
  }
 },
 "nbformat": 4,
 "nbformat_minor": 4
}
